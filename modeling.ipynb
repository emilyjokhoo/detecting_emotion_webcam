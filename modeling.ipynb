{
  "nbformat": 4,
  "nbformat_minor": 0,
  "metadata": {
    "colab": {
      "name": "modeling",
      "provenance": [],
      "collapsed_sections": [],
      "mount_file_id": "1suQhWNkWQdhVYbpfERxFAMN7hq8iFfSG",
      "authorship_tag": "ABX9TyN79WFmjMIRcBB/vRfZqFTr",
      "include_colab_link": true
    },
    "kernelspec": {
      "name": "python3",
      "display_name": "Python 3"
    },
    "language_info": {
      "name": "python"
    },
    "accelerator": "GPU"
  },
  "cells": [
    {
      "cell_type": "markdown",
      "metadata": {
        "id": "view-in-github",
        "colab_type": "text"
      },
      "source": [
        "<a href=\"https://colab.research.google.com/github/emilyjokhoo/detecting_emotion_webcam/blob/main/modeling.ipynb\" target=\"_parent\"><img src=\"https://colab.research.google.com/assets/colab-badge.svg\" alt=\"Open In Colab\"/></a>"
      ]
    },
    {
      "cell_type": "code",
      "execution_count": 2,
      "metadata": {
        "id": "ckkiBH7EdDBr"
      },
      "outputs": [],
      "source": [
        "import matplotlib.pyplot as plt\n",
        "import numpy as np\n",
        "#import scipy\n",
        "import seaborn as sns\n",
        "import pandas as pd\n",
        "from imblearn.over_sampling import RandomOverSampler\n",
        "from keras.preprocessing.image import ImageDataGenerator \n",
        "from sklearn.utils import resample\n",
        "import random\n",
        "import os\n",
        "\n",
        "from keras.utils.vis_utils import plot_model\n",
        "from keras.models import Model\n",
        "from keras.layers import Input, Dense, Flatten, Dropout, BatchNormalization\n",
        "from keras.layers.convolutional import Conv2D\n",
        "from keras.layers.pooling import MaxPooling2D\n",
        "from keras.layers.merge import concatenate\n",
        "from keras.regularizers import l1, l2\n",
        "from matplotlib import pyplot as plt\n",
        "from keras.optimizers import adam_v2"
      ]
    },
    {
      "cell_type": "code",
      "source": [
        "# loading dataset\n",
        "os.chdir('/content/drive/MyDrive/lhl_final_project')\n",
        "df = pd.read_csv('dataset.csv')\n",
        "df.head(10)"
      ],
      "metadata": {
        "colab": {
          "base_uri": "https://localhost:8080/",
          "height": 374
        },
        "id": "0ii1zHGTdd3J",
        "outputId": "dfe0e3e7-7eb6-4b5f-dd2c-ab424ab6f67d"
      },
      "execution_count": 3,
      "outputs": [
        {
          "output_type": "execute_result",
          "data": {
            "text/plain": [
              "   emotion                                             pixels     Usage\n",
              "0        0  70 80 82 72 58 58 60 63 54 58 60 48 89 115 121...  Training\n",
              "1        0  151 150 147 155 148 133 111 140 170 174 182 15...  Training\n",
              "2        2  231 212 156 164 174 138 161 173 182 200 106 38...  Training\n",
              "3        4  24 32 36 30 32 23 19 20 30 41 21 22 32 34 21 1...  Training\n",
              "4        6  4 0 0 0 0 0 0 0 0 0 0 0 3 15 23 28 48 50 58 84...  Training\n",
              "5        2  55 55 55 55 55 54 60 68 54 85 151 163 170 179 ...  Training\n",
              "6        4  20 17 19 21 25 38 42 42 46 54 56 62 63 66 82 1...  Training\n",
              "7        3  77 78 79 79 78 75 60 55 47 48 58 73 77 79 57 5...  Training\n",
              "8        3  85 84 90 121 101 102 133 153 153 169 177 189 1...  Training\n",
              "9        2  255 254 255 254 254 179 122 107 95 124 149 150...  Training"
            ],
            "text/html": [
              "\n",
              "  <div id=\"df-e43578be-c469-4886-ba3e-a42e492ba6e0\">\n",
              "    <div class=\"colab-df-container\">\n",
              "      <div>\n",
              "<style scoped>\n",
              "    .dataframe tbody tr th:only-of-type {\n",
              "        vertical-align: middle;\n",
              "    }\n",
              "\n",
              "    .dataframe tbody tr th {\n",
              "        vertical-align: top;\n",
              "    }\n",
              "\n",
              "    .dataframe thead th {\n",
              "        text-align: right;\n",
              "    }\n",
              "</style>\n",
              "<table border=\"1\" class=\"dataframe\">\n",
              "  <thead>\n",
              "    <tr style=\"text-align: right;\">\n",
              "      <th></th>\n",
              "      <th>emotion</th>\n",
              "      <th>pixels</th>\n",
              "      <th>Usage</th>\n",
              "    </tr>\n",
              "  </thead>\n",
              "  <tbody>\n",
              "    <tr>\n",
              "      <th>0</th>\n",
              "      <td>0</td>\n",
              "      <td>70 80 82 72 58 58 60 63 54 58 60 48 89 115 121...</td>\n",
              "      <td>Training</td>\n",
              "    </tr>\n",
              "    <tr>\n",
              "      <th>1</th>\n",
              "      <td>0</td>\n",
              "      <td>151 150 147 155 148 133 111 140 170 174 182 15...</td>\n",
              "      <td>Training</td>\n",
              "    </tr>\n",
              "    <tr>\n",
              "      <th>2</th>\n",
              "      <td>2</td>\n",
              "      <td>231 212 156 164 174 138 161 173 182 200 106 38...</td>\n",
              "      <td>Training</td>\n",
              "    </tr>\n",
              "    <tr>\n",
              "      <th>3</th>\n",
              "      <td>4</td>\n",
              "      <td>24 32 36 30 32 23 19 20 30 41 21 22 32 34 21 1...</td>\n",
              "      <td>Training</td>\n",
              "    </tr>\n",
              "    <tr>\n",
              "      <th>4</th>\n",
              "      <td>6</td>\n",
              "      <td>4 0 0 0 0 0 0 0 0 0 0 0 3 15 23 28 48 50 58 84...</td>\n",
              "      <td>Training</td>\n",
              "    </tr>\n",
              "    <tr>\n",
              "      <th>5</th>\n",
              "      <td>2</td>\n",
              "      <td>55 55 55 55 55 54 60 68 54 85 151 163 170 179 ...</td>\n",
              "      <td>Training</td>\n",
              "    </tr>\n",
              "    <tr>\n",
              "      <th>6</th>\n",
              "      <td>4</td>\n",
              "      <td>20 17 19 21 25 38 42 42 46 54 56 62 63 66 82 1...</td>\n",
              "      <td>Training</td>\n",
              "    </tr>\n",
              "    <tr>\n",
              "      <th>7</th>\n",
              "      <td>3</td>\n",
              "      <td>77 78 79 79 78 75 60 55 47 48 58 73 77 79 57 5...</td>\n",
              "      <td>Training</td>\n",
              "    </tr>\n",
              "    <tr>\n",
              "      <th>8</th>\n",
              "      <td>3</td>\n",
              "      <td>85 84 90 121 101 102 133 153 153 169 177 189 1...</td>\n",
              "      <td>Training</td>\n",
              "    </tr>\n",
              "    <tr>\n",
              "      <th>9</th>\n",
              "      <td>2</td>\n",
              "      <td>255 254 255 254 254 179 122 107 95 124 149 150...</td>\n",
              "      <td>Training</td>\n",
              "    </tr>\n",
              "  </tbody>\n",
              "</table>\n",
              "</div>\n",
              "      <button class=\"colab-df-convert\" onclick=\"convertToInteractive('df-e43578be-c469-4886-ba3e-a42e492ba6e0')\"\n",
              "              title=\"Convert this dataframe to an interactive table.\"\n",
              "              style=\"display:none;\">\n",
              "        \n",
              "  <svg xmlns=\"http://www.w3.org/2000/svg\" height=\"24px\"viewBox=\"0 0 24 24\"\n",
              "       width=\"24px\">\n",
              "    <path d=\"M0 0h24v24H0V0z\" fill=\"none\"/>\n",
              "    <path d=\"M18.56 5.44l.94 2.06.94-2.06 2.06-.94-2.06-.94-.94-2.06-.94 2.06-2.06.94zm-11 1L8.5 8.5l.94-2.06 2.06-.94-2.06-.94L8.5 2.5l-.94 2.06-2.06.94zm10 10l.94 2.06.94-2.06 2.06-.94-2.06-.94-.94-2.06-.94 2.06-2.06.94z\"/><path d=\"M17.41 7.96l-1.37-1.37c-.4-.4-.92-.59-1.43-.59-.52 0-1.04.2-1.43.59L10.3 9.45l-7.72 7.72c-.78.78-.78 2.05 0 2.83L4 21.41c.39.39.9.59 1.41.59.51 0 1.02-.2 1.41-.59l7.78-7.78 2.81-2.81c.8-.78.8-2.07 0-2.86zM5.41 20L4 18.59l7.72-7.72 1.47 1.35L5.41 20z\"/>\n",
              "  </svg>\n",
              "      </button>\n",
              "      \n",
              "  <style>\n",
              "    .colab-df-container {\n",
              "      display:flex;\n",
              "      flex-wrap:wrap;\n",
              "      gap: 12px;\n",
              "    }\n",
              "\n",
              "    .colab-df-convert {\n",
              "      background-color: #E8F0FE;\n",
              "      border: none;\n",
              "      border-radius: 50%;\n",
              "      cursor: pointer;\n",
              "      display: none;\n",
              "      fill: #1967D2;\n",
              "      height: 32px;\n",
              "      padding: 0 0 0 0;\n",
              "      width: 32px;\n",
              "    }\n",
              "\n",
              "    .colab-df-convert:hover {\n",
              "      background-color: #E2EBFA;\n",
              "      box-shadow: 0px 1px 2px rgba(60, 64, 67, 0.3), 0px 1px 3px 1px rgba(60, 64, 67, 0.15);\n",
              "      fill: #174EA6;\n",
              "    }\n",
              "\n",
              "    [theme=dark] .colab-df-convert {\n",
              "      background-color: #3B4455;\n",
              "      fill: #D2E3FC;\n",
              "    }\n",
              "\n",
              "    [theme=dark] .colab-df-convert:hover {\n",
              "      background-color: #434B5C;\n",
              "      box-shadow: 0px 1px 3px 1px rgba(0, 0, 0, 0.15);\n",
              "      filter: drop-shadow(0px 1px 2px rgba(0, 0, 0, 0.3));\n",
              "      fill: #FFFFFF;\n",
              "    }\n",
              "  </style>\n",
              "\n",
              "      <script>\n",
              "        const buttonEl =\n",
              "          document.querySelector('#df-e43578be-c469-4886-ba3e-a42e492ba6e0 button.colab-df-convert');\n",
              "        buttonEl.style.display =\n",
              "          google.colab.kernel.accessAllowed ? 'block' : 'none';\n",
              "\n",
              "        async function convertToInteractive(key) {\n",
              "          const element = document.querySelector('#df-e43578be-c469-4886-ba3e-a42e492ba6e0');\n",
              "          const dataTable =\n",
              "            await google.colab.kernel.invokeFunction('convertToInteractive',\n",
              "                                                     [key], {});\n",
              "          if (!dataTable) return;\n",
              "\n",
              "          const docLinkHtml = 'Like what you see? Visit the ' +\n",
              "            '<a target=\"_blank\" href=https://colab.research.google.com/notebooks/data_table.ipynb>data table notebook</a>'\n",
              "            + ' to learn more about interactive tables.';\n",
              "          element.innerHTML = '';\n",
              "          dataTable['output_type'] = 'display_data';\n",
              "          await google.colab.output.renderOutput(dataTable, element);\n",
              "          const docLink = document.createElement('div');\n",
              "          docLink.innerHTML = docLinkHtml;\n",
              "          element.appendChild(docLink);\n",
              "        }\n",
              "      </script>\n",
              "    </div>\n",
              "  </div>\n",
              "  "
            ]
          },
          "metadata": {},
          "execution_count": 3
        }
      ]
    },
    {
      "cell_type": "markdown",
      "source": [
        "Preprocessing"
      ],
      "metadata": {
        "id": "0KoVa88aJyMw"
      }
    },
    {
      "cell_type": "code",
      "source": [
        "del df['Usage']"
      ],
      "metadata": {
        "id": "l8DWjQw4dj5o"
      },
      "execution_count": 5,
      "outputs": []
    },
    {
      "cell_type": "code",
      "source": [
        "emotion = ['anger', 'disgust', 'fear', 'happy', 'sad', 'surprise', 'neutral']"
      ],
      "metadata": {
        "id": "Lwbo0jiQdwRg"
      },
      "execution_count": 6,
      "outputs": []
    },
    {
      "cell_type": "code",
      "source": [
        "df['emotion_names'] = df['emotion'].apply(lambda x: emotion[x])"
      ],
      "metadata": {
        "id": "0iTd6jVUd3P1"
      },
      "execution_count": 7,
      "outputs": []
    },
    {
      "cell_type": "code",
      "source": [
        "emotion_plot = df['emotion'].value_counts(sort=False).reset_index()\n",
        "emotion_plot.columns = ['Emotion', 'Count'] \n",
        "emotion_plot"
      ],
      "metadata": {
        "colab": {
          "base_uri": "https://localhost:8080/",
          "height": 282
        },
        "id": "VdRssA-fI2Fi",
        "outputId": "5790a556-ab4c-402f-b22e-18a6646f0e0c"
      },
      "execution_count": 8,
      "outputs": [
        {
          "output_type": "execute_result",
          "data": {
            "text/plain": [
              "   Emotion  Count\n",
              "0        0   4953\n",
              "1        2   5121\n",
              "2        4   6077\n",
              "3        6   6198\n",
              "4        3   8989\n",
              "5        5   4002\n",
              "6        1    547"
            ],
            "text/html": [
              "\n",
              "  <div id=\"df-977561fb-5f71-416d-af1a-8537e57d06e8\">\n",
              "    <div class=\"colab-df-container\">\n",
              "      <div>\n",
              "<style scoped>\n",
              "    .dataframe tbody tr th:only-of-type {\n",
              "        vertical-align: middle;\n",
              "    }\n",
              "\n",
              "    .dataframe tbody tr th {\n",
              "        vertical-align: top;\n",
              "    }\n",
              "\n",
              "    .dataframe thead th {\n",
              "        text-align: right;\n",
              "    }\n",
              "</style>\n",
              "<table border=\"1\" class=\"dataframe\">\n",
              "  <thead>\n",
              "    <tr style=\"text-align: right;\">\n",
              "      <th></th>\n",
              "      <th>Emotion</th>\n",
              "      <th>Count</th>\n",
              "    </tr>\n",
              "  </thead>\n",
              "  <tbody>\n",
              "    <tr>\n",
              "      <th>0</th>\n",
              "      <td>0</td>\n",
              "      <td>4953</td>\n",
              "    </tr>\n",
              "    <tr>\n",
              "      <th>1</th>\n",
              "      <td>2</td>\n",
              "      <td>5121</td>\n",
              "    </tr>\n",
              "    <tr>\n",
              "      <th>2</th>\n",
              "      <td>4</td>\n",
              "      <td>6077</td>\n",
              "    </tr>\n",
              "    <tr>\n",
              "      <th>3</th>\n",
              "      <td>6</td>\n",
              "      <td>6198</td>\n",
              "    </tr>\n",
              "    <tr>\n",
              "      <th>4</th>\n",
              "      <td>3</td>\n",
              "      <td>8989</td>\n",
              "    </tr>\n",
              "    <tr>\n",
              "      <th>5</th>\n",
              "      <td>5</td>\n",
              "      <td>4002</td>\n",
              "    </tr>\n",
              "    <tr>\n",
              "      <th>6</th>\n",
              "      <td>1</td>\n",
              "      <td>547</td>\n",
              "    </tr>\n",
              "  </tbody>\n",
              "</table>\n",
              "</div>\n",
              "      <button class=\"colab-df-convert\" onclick=\"convertToInteractive('df-977561fb-5f71-416d-af1a-8537e57d06e8')\"\n",
              "              title=\"Convert this dataframe to an interactive table.\"\n",
              "              style=\"display:none;\">\n",
              "        \n",
              "  <svg xmlns=\"http://www.w3.org/2000/svg\" height=\"24px\"viewBox=\"0 0 24 24\"\n",
              "       width=\"24px\">\n",
              "    <path d=\"M0 0h24v24H0V0z\" fill=\"none\"/>\n",
              "    <path d=\"M18.56 5.44l.94 2.06.94-2.06 2.06-.94-2.06-.94-.94-2.06-.94 2.06-2.06.94zm-11 1L8.5 8.5l.94-2.06 2.06-.94-2.06-.94L8.5 2.5l-.94 2.06-2.06.94zm10 10l.94 2.06.94-2.06 2.06-.94-2.06-.94-.94-2.06-.94 2.06-2.06.94z\"/><path d=\"M17.41 7.96l-1.37-1.37c-.4-.4-.92-.59-1.43-.59-.52 0-1.04.2-1.43.59L10.3 9.45l-7.72 7.72c-.78.78-.78 2.05 0 2.83L4 21.41c.39.39.9.59 1.41.59.51 0 1.02-.2 1.41-.59l7.78-7.78 2.81-2.81c.8-.78.8-2.07 0-2.86zM5.41 20L4 18.59l7.72-7.72 1.47 1.35L5.41 20z\"/>\n",
              "  </svg>\n",
              "      </button>\n",
              "      \n",
              "  <style>\n",
              "    .colab-df-container {\n",
              "      display:flex;\n",
              "      flex-wrap:wrap;\n",
              "      gap: 12px;\n",
              "    }\n",
              "\n",
              "    .colab-df-convert {\n",
              "      background-color: #E8F0FE;\n",
              "      border: none;\n",
              "      border-radius: 50%;\n",
              "      cursor: pointer;\n",
              "      display: none;\n",
              "      fill: #1967D2;\n",
              "      height: 32px;\n",
              "      padding: 0 0 0 0;\n",
              "      width: 32px;\n",
              "    }\n",
              "\n",
              "    .colab-df-convert:hover {\n",
              "      background-color: #E2EBFA;\n",
              "      box-shadow: 0px 1px 2px rgba(60, 64, 67, 0.3), 0px 1px 3px 1px rgba(60, 64, 67, 0.15);\n",
              "      fill: #174EA6;\n",
              "    }\n",
              "\n",
              "    [theme=dark] .colab-df-convert {\n",
              "      background-color: #3B4455;\n",
              "      fill: #D2E3FC;\n",
              "    }\n",
              "\n",
              "    [theme=dark] .colab-df-convert:hover {\n",
              "      background-color: #434B5C;\n",
              "      box-shadow: 0px 1px 3px 1px rgba(0, 0, 0, 0.15);\n",
              "      filter: drop-shadow(0px 1px 2px rgba(0, 0, 0, 0.3));\n",
              "      fill: #FFFFFF;\n",
              "    }\n",
              "  </style>\n",
              "\n",
              "      <script>\n",
              "        const buttonEl =\n",
              "          document.querySelector('#df-977561fb-5f71-416d-af1a-8537e57d06e8 button.colab-df-convert');\n",
              "        buttonEl.style.display =\n",
              "          google.colab.kernel.accessAllowed ? 'block' : 'none';\n",
              "\n",
              "        async function convertToInteractive(key) {\n",
              "          const element = document.querySelector('#df-977561fb-5f71-416d-af1a-8537e57d06e8');\n",
              "          const dataTable =\n",
              "            await google.colab.kernel.invokeFunction('convertToInteractive',\n",
              "                                                     [key], {});\n",
              "          if (!dataTable) return;\n",
              "\n",
              "          const docLinkHtml = 'Like what you see? Visit the ' +\n",
              "            '<a target=\"_blank\" href=https://colab.research.google.com/notebooks/data_table.ipynb>data table notebook</a>'\n",
              "            + ' to learn more about interactive tables.';\n",
              "          element.innerHTML = '';\n",
              "          dataTable['output_type'] = 'display_data';\n",
              "          await google.colab.output.renderOutput(dataTable, element);\n",
              "          const docLink = document.createElement('div');\n",
              "          docLink.innerHTML = docLinkHtml;\n",
              "          element.appendChild(docLink);\n",
              "        }\n",
              "      </script>\n",
              "    </div>\n",
              "  </div>\n",
              "  "
            ]
          },
          "metadata": {},
          "execution_count": 8
        }
      ]
    },
    {
      "cell_type": "code",
      "source": [
        "plt.figure(figsize=(8,5))\n",
        "sns.barplot(x='Emotion', y='Count', data=emotion_plot)\n",
        "plt.show()"
      ],
      "metadata": {
        "colab": {
          "base_uri": "https://localhost:8080/",
          "height": 354
        },
        "id": "0YkOhYXkJEh1",
        "outputId": "b49aabeb-7e0e-4f55-f552-4f5f99b111f1"
      },
      "execution_count": 10,
      "outputs": [
        {
          "output_type": "display_data",
          "data": {
            "text/plain": [
              "<Figure size 576x360 with 1 Axes>"
            ],
            "image/png": "[encoded data removed]"
          },
          "metadata": {
            "needs_background": "light"
          }
        }
      ]
    },
    {
      "cell_type": "code",
      "source": [
        "# splitting train and test\n",
        "train = df[:28711] # 80%\n",
        "test = df[28711:] # 20%"
      ],
      "metadata": {
        "id": "7C3gmi4NeDl3"
      },
      "execution_count": 12,
      "outputs": []
    },
    {
      "cell_type": "code",
      "source": [
        "from imblearn.over_sampling import RandomOverSampler\n",
        "\n",
        "oversampler = RandomOverSampler()\n",
        "train, y_train = oversampler.fit_resample(train, train.emotion)\n",
        "train = train.sample(frac=1).reset_index(drop=True) \n",
        "# Shuffle the training set after oversampling in order to avoid blocks with same label"
      ],
      "metadata": {
        "id": "V4Q000a7eRjO"
      },
      "execution_count": 13,
      "outputs": []
    },
    {
      "cell_type": "code",
      "source": [
        "train_df = train['emotion'].value_counts(sort=False).reset_index()\n",
        "train_df.columns = ['Emotion', 'Count'] \n",
        "train_df"
      ],
      "metadata": {
        "id": "fkXbY0yWeaTh",
        "colab": {
          "base_uri": "https://localhost:8080/",
          "height": 282
        },
        "outputId": "a3180695-a4a2-4def-9a63-0d06893fa131"
      },
      "execution_count": 14,
      "outputs": [
        {
          "output_type": "execute_result",
          "data": {
            "text/plain": [
              "   Emotion  Count\n",
              "0        1   7215\n",
              "1        0   7215\n",
              "2        2   7215\n",
              "3        5   7215\n",
              "4        4   7215\n",
              "5        6   7215\n",
              "6        3   7215"
            ],
            "text/html": [
              "\n",
              "  <div id=\"df-d62c068c-a025-47b4-ad70-65d8e8225b1b\">\n",
              "    <div class=\"colab-df-container\">\n",
              "      <div>\n",
              "<style scoped>\n",
              "    .dataframe tbody tr th:only-of-type {\n",
              "        vertical-align: middle;\n",
              "    }\n",
              "\n",
              "    .dataframe tbody tr th {\n",
              "        vertical-align: top;\n",
              "    }\n",
              "\n",
              "    .dataframe thead th {\n",
              "        text-align: right;\n",
              "    }\n",
              "</style>\n",
              "<table border=\"1\" class=\"dataframe\">\n",
              "  <thead>\n",
              "    <tr style=\"text-align: right;\">\n",
              "      <th></th>\n",
              "      <th>Emotion</th>\n",
              "      <th>Count</th>\n",
              "    </tr>\n",
              "  </thead>\n",
              "  <tbody>\n",
              "    <tr>\n",
              "      <th>0</th>\n",
              "      <td>1</td>\n",
              "      <td>7215</td>\n",
              "    </tr>\n",
              "    <tr>\n",
              "      <th>1</th>\n",
              "      <td>0</td>\n",
              "      <td>7215</td>\n",
              "    </tr>\n",
              "    <tr>\n",
              "      <th>2</th>\n",
              "      <td>2</td>\n",
              "      <td>7215</td>\n",
              "    </tr>\n",
              "    <tr>\n",
              "      <th>3</th>\n",
              "      <td>5</td>\n",
              "      <td>7215</td>\n",
              "    </tr>\n",
              "    <tr>\n",
              "      <th>4</th>\n",
              "      <td>4</td>\n",
              "      <td>7215</td>\n",
              "    </tr>\n",
              "    <tr>\n",
              "      <th>5</th>\n",
              "      <td>6</td>\n",
              "      <td>7215</td>\n",
              "    </tr>\n",
              "    <tr>\n",
              "      <th>6</th>\n",
              "      <td>3</td>\n",
              "      <td>7215</td>\n",
              "    </tr>\n",
              "  </tbody>\n",
              "</table>\n",
              "</div>\n",
              "      <button class=\"colab-df-convert\" onclick=\"convertToInteractive('df-d62c068c-a025-47b4-ad70-65d8e8225b1b')\"\n",
              "              title=\"Convert this dataframe to an interactive table.\"\n",
              "              style=\"display:none;\">\n",
              "        \n",
              "  <svg xmlns=\"http://www.w3.org/2000/svg\" height=\"24px\"viewBox=\"0 0 24 24\"\n",
              "       width=\"24px\">\n",
              "    <path d=\"M0 0h24v24H0V0z\" fill=\"none\"/>\n",
              "    <path d=\"M18.56 5.44l.94 2.06.94-2.06 2.06-.94-2.06-.94-.94-2.06-.94 2.06-2.06.94zm-11 1L8.5 8.5l.94-2.06 2.06-.94-2.06-.94L8.5 2.5l-.94 2.06-2.06.94zm10 10l.94 2.06.94-2.06 2.06-.94-2.06-.94-.94-2.06-.94 2.06-2.06.94z\"/><path d=\"M17.41 7.96l-1.37-1.37c-.4-.4-.92-.59-1.43-.59-.52 0-1.04.2-1.43.59L10.3 9.45l-7.72 7.72c-.78.78-.78 2.05 0 2.83L4 21.41c.39.39.9.59 1.41.59.51 0 1.02-.2 1.41-.59l7.78-7.78 2.81-2.81c.8-.78.8-2.07 0-2.86zM5.41 20L4 18.59l7.72-7.72 1.47 1.35L5.41 20z\"/>\n",
              "  </svg>\n",
              "      </button>\n",
              "      \n",
              "  <style>\n",
              "    .colab-df-container {\n",
              "      display:flex;\n",
              "      flex-wrap:wrap;\n",
              "      gap: 12px;\n",
              "    }\n",
              "\n",
              "    .colab-df-convert {\n",
              "      background-color: #E8F0FE;\n",
              "      border: none;\n",
              "      border-radius: 50%;\n",
              "      cursor: pointer;\n",
              "      display: none;\n",
              "      fill: #1967D2;\n",
              "      height: 32px;\n",
              "      padding: 0 0 0 0;\n",
              "      width: 32px;\n",
              "    }\n",
              "\n",
              "    .colab-df-convert:hover {\n",
              "      background-color: #E2EBFA;\n",
              "      box-shadow: 0px 1px 2px rgba(60, 64, 67, 0.3), 0px 1px 3px 1px rgba(60, 64, 67, 0.15);\n",
              "      fill: #174EA6;\n",
              "    }\n",
              "\n",
              "    [theme=dark] .colab-df-convert {\n",
              "      background-color: #3B4455;\n",
              "      fill: #D2E3FC;\n",
              "    }\n",
              "\n",
              "    [theme=dark] .colab-df-convert:hover {\n",
              "      background-color: #434B5C;\n",
              "      box-shadow: 0px 1px 3px 1px rgba(0, 0, 0, 0.15);\n",
              "      filter: drop-shadow(0px 1px 2px rgba(0, 0, 0, 0.3));\n",
              "      fill: #FFFFFF;\n",
              "    }\n",
              "  </style>\n",
              "\n",
              "      <script>\n",
              "        const buttonEl =\n",
              "          document.querySelector('#df-d62c068c-a025-47b4-ad70-65d8e8225b1b button.colab-df-convert');\n",
              "        buttonEl.style.display =\n",
              "          google.colab.kernel.accessAllowed ? 'block' : 'none';\n",
              "\n",
              "        async function convertToInteractive(key) {\n",
              "          const element = document.querySelector('#df-d62c068c-a025-47b4-ad70-65d8e8225b1b');\n",
              "          const dataTable =\n",
              "            await google.colab.kernel.invokeFunction('convertToInteractive',\n",
              "                                                     [key], {});\n",
              "          if (!dataTable) return;\n",
              "\n",
              "          const docLinkHtml = 'Like what you see? Visit the ' +\n",
              "            '<a target=\"_blank\" href=https://colab.research.google.com/notebooks/data_table.ipynb>data table notebook</a>'\n",
              "            + ' to learn more about interactive tables.';\n",
              "          element.innerHTML = '';\n",
              "          dataTable['output_type'] = 'display_data';\n",
              "          await google.colab.output.renderOutput(dataTable, element);\n",
              "          const docLink = document.createElement('div');\n",
              "          docLink.innerHTML = docLinkHtml;\n",
              "          element.appendChild(docLink);\n",
              "        }\n",
              "      </script>\n",
              "    </div>\n",
              "  </div>\n",
              "  "
            ]
          },
          "metadata": {},
          "execution_count": 14
        }
      ]
    },
    {
      "cell_type": "code",
      "source": [
        "plt.figure(figsize=(8,5))\n",
        "sns.barplot(x='Emotion', y='Count', data=train_df)\n",
        "plt.show()"
      ],
      "metadata": {
        "id": "q_Jd4cpwee_G",
        "colab": {
          "base_uri": "https://localhost:8080/",
          "height": 354
        },
        "outputId": "e4ee02ea-02cb-48b1-8603-53d245d6e5fb"
      },
      "execution_count": null,
      "outputs": [
        {
          "output_type": "display_data",
          "data": {
            "text/plain": [
              "<Figure size 576x360 with 1 Axes>"
            ],
            "image/png": "[encoded data removed]"
          },
          "metadata": {
            "needs_background": "light"
          }
        }
      ]
    },
    {
      "cell_type": "code",
      "source": [
        "row, col = 3, 10\n",
        "img_size = 20\n",
        "fig, axes = plt.subplots(row, col, figsize=(img_size,img_size*row/col))\n",
        "fig.tight_layout()\n",
        "fig.subplots_adjust(hspace=.25)\n",
        "\n",
        "for i in range(row):\n",
        "    for k in range(col):\n",
        "        ax = axes[i,k]\n",
        "        j = np.random.randint(len(df.pixels)) \n",
        "        img = df.pixels[j].reshape(48,48)\n",
        "        lbl = df.emotion[j].capitalize() \n",
        "        ax.set_title(f'{lbl}')\n",
        "        ax.imshow(img, cmap='gray')"
      ],
      "metadata": {
        "id": "YC9D_UVLJZiA"
      },
      "execution_count": null,
      "outputs": []
    },
    {
      "cell_type": "code",
      "source": [
        "X_train = []\n",
        "for index, row in train.iterrows():\n",
        "  k = row['pixels'].split(\" \")\n",
        "  X_train.append(np.array(k))"
      ],
      "metadata": {
        "id": "dr4QJjt0eJmJ"
      },
      "execution_count": null,
      "outputs": []
    },
    {
      "cell_type": "code",
      "source": [
        "X_test = []\n",
        "for index, row in test.iterrows():\n",
        "    k = row['pixels'].split(\" \")\n",
        "    X_test.append(np.array(k))"
      ],
      "metadata": {
        "id": "2sV-pV64eNct"
      },
      "execution_count": null,
      "outputs": []
    },
    {
      "cell_type": "code",
      "source": [
        "X_train = np.array(X_train, dtype = 'uint8')\n",
        "X_test = np.array(X_test, dtype = 'uint8')"
      ],
      "metadata": {
        "id": "49OQIa4fej6R"
      },
      "execution_count": null,
      "outputs": []
    },
    {
      "cell_type": "code",
      "source": [
        "newarr = np.array(X_train).reshape(50505, 48, 48, 1).astype('float32')\n",
        "new_test = np.array(X_test).reshape(7176, 48, 48, 1).astype('float32')"
      ],
      "metadata": {
        "id": "Mfh5J_E8fV18"
      },
      "execution_count": null,
      "outputs": []
    },
    {
      "cell_type": "code",
      "source": [
        "datagen = ImageDataGenerator(\n",
        "    rescale=1./255,\n",
        "    rotation_range = 15,\n",
        "    horizontal_flip = True,\n",
        "    width_shift_range=0.15,\n",
        "    height_shift_range=0.15,\n",
        "    fill_mode = 'nearest')"
      ],
      "metadata": {
        "id": "fvEPJaGFffKR"
      },
      "execution_count": null,
      "outputs": []
    },
    {
      "cell_type": "code",
      "source": [
        "batch_size = 32\n",
        "testgen = ImageDataGenerator(rescale=1./255)\n",
        "train_flow = datagen.flow(newarr, y=train['emotion'], batch_size=batch_size) \n",
        "test_flow = testgen.flow(new_test, y=test['emotion'], batch_size=batch_size)"
      ],
      "metadata": {
        "id": "TIHO6C8TfkyB"
      },
      "execution_count": null,
      "outputs": []
    },
    {
      "cell_type": "code",
      "source": [
        "datagen.fit(newarr)"
      ],
      "metadata": {
        "id": "ozabwzACfo2l"
      },
      "execution_count": null,
      "outputs": []
    },
    {
      "cell_type": "markdown",
      "source": [
        "Modeling CNN"
      ],
      "metadata": {
        "id": "C-ibsutiJ8CC"
      }
    },
    {
      "cell_type": "code",
      "source": [
        " def FER_Model(input_shape=(48,48,1)):\n",
        "   visible = Input(shape=input_shape, name='input')\n",
        "   num_classes = 7\n",
        "   # convo layer 1\n",
        "   conv1 = Conv2D(64, kernel_size=3, activation='relu', padding='same', name = 'conv1')(visible)\n",
        "   conv1 = BatchNormalization()(conv1)\n",
        "   pool1 = MaxPooling2D(pool_size=(2,2), name = 'pool1')(conv1)\n",
        "   drop1 = Dropout(0.3, name = 'drop1')(pool1)#the 2-nd block\n",
        "   # convo layer 2\n",
        "   conv2 = Conv2D(128, kernel_size=3, activation='relu', padding='same', name = 'conv2')(drop1)\n",
        "   conv2 = BatchNormalization()(conv2)\n",
        "   pool2 = MaxPooling2D(pool_size=(2,2), name = 'pool2')(conv2)\n",
        "   drop2 = Dropout(0.3, name = 'drop2')(pool2)#the 3-rd block\n",
        "   # convo layer 3\n",
        "   conv3 = Conv2D(256, kernel_size=3, activation='relu', padding='same', name = 'conv3')(drop2)\n",
        "   conv3 = BatchNormalization()(conv3)\n",
        "   pool3 = MaxPooling2D(pool_size=(2,2), name = 'pool3')(conv3)\n",
        "   drop3 = Dropout(0.3, name = 'drop3')(pool3)\n",
        "   # convo layer 4\n",
        "   conv4 = Conv2D(512, kernel_size=3, activation='relu', padding='same', name = 'conv4')(drop3)\n",
        "   conv4 = BatchNormalization()(conv4)\n",
        "   pool4 = MaxPooling2D(pool_size=(2,2), name = 'pool4')(conv4)\n",
        "   drop4 = Dropout(0.3, name = 'drop4')(pool4)\n",
        "   # convo layer 5\n",
        "   conv5 = Conv2D(1024, kernel_size=3, activation='relu', padding='same', name = 'conv5')(drop4)\n",
        "   conv5 = BatchNormalization()(conv5)\n",
        "   pool5 = MaxPooling2D(pool_size=(2,2), name = 'pool5')(conv5)\n",
        "   drop5 = Dropout(0.3, name = 'drop5')(pool5)\n",
        "   \n",
        "   flatten = Flatten(name = 'flatten')(drop5)\n",
        "   ouput = Dense(num_classes, activation='softmax', name = 'output')(flatten)# create model \n",
        "   model = Model(inputs =visible, outputs = ouput)\n",
        "   # Compile model\n",
        "   opt = adam_v2.Adam(learning_rate=0.0001, decay=1e-6)\n",
        "   model.compile(loss='sparse_categorical_crossentropy', optimizer=opt, metrics=['accuracy'])\n",
        "   return model"
      ],
      "metadata": {
        "id": "9aj2m-nnfyl-"
      },
      "execution_count": null,
      "outputs": []
    },
    {
      "cell_type": "code",
      "source": [
        "batch_size = 32\n",
        "model = FER_Model()\n",
        "#opt = Adam(lr=0.0001, decay=1e-6)\n",
        "opt = adam_v2.Adam(learning_rate=0.0001, decay=1e-6)\n",
        "model.compile(loss='sparse_categorical_crossentropy', optimizer=opt, metrics=['accuracy'])"
      ],
      "metadata": {
        "id": "pLOucuIHg3cz"
      },
      "execution_count": null,
      "outputs": []
    },
    {
      "cell_type": "code",
      "source": [
        "model.summary()"
      ],
      "metadata": {
        "colab": {
          "base_uri": "https://localhost:8080/"
        },
        "id": "S8N4DtPY5OAb",
        "outputId": "f5534173-0d30-4af4-ce82-3f981a50f6ef"
      },
      "execution_count": null,
      "outputs": [
        {
          "output_type": "stream",
          "name": "stdout",
          "text": [
            "Model: \"model\"\n",
            "_________________________________________________________________\n",
            " Layer (type)                Output Shape              Param #   \n",
            "=================================================================\n",
            " input (InputLayer)          [(None, 48, 48, 1)]       0         \n",
            "                                                                 \n",
            " conv1 (Conv2D)              (None, 48, 48, 64)        640       \n",
            "                                                                 \n",
            " batch_normalization (BatchN  (None, 48, 48, 64)       256       \n",
            " ormalization)                                                   \n",
            "                                                                 \n",
            " pool1 (MaxPooling2D)        (None, 24, 24, 64)        0         \n",
            "                                                                 \n",
            " drop1 (Dropout)             (None, 24, 24, 64)        0         \n",
            "                                                                 \n",
            " conv2 (Conv2D)              (None, 24, 24, 128)       73856     \n",
            "                                                                 \n",
            " batch_normalization_1 (Batc  (None, 24, 24, 128)      512       \n",
            " hNormalization)                                                 \n",
            "                                                                 \n",
            " pool2 (MaxPooling2D)        (None, 12, 12, 128)       0         \n",
            "                                                                 \n",
            " drop2 (Dropout)             (None, 12, 12, 128)       0         \n",
            "                                                                 \n",
            " conv3 (Conv2D)              (None, 12, 12, 256)       295168    \n",
            "                                                                 \n",
            " batch_normalization_2 (Batc  (None, 12, 12, 256)      1024      \n",
            " hNormalization)                                                 \n",
            "                                                                 \n",
            " pool3 (MaxPooling2D)        (None, 6, 6, 256)         0         \n",
            "                                                                 \n",
            " drop3 (Dropout)             (None, 6, 6, 256)         0         \n",
            "                                                                 \n",
            " conv4 (Conv2D)              (None, 6, 6, 512)         1180160   \n",
            "                                                                 \n",
            " batch_normalization_3 (Batc  (None, 6, 6, 512)        2048      \n",
            " hNormalization)                                                 \n",
            "                                                                 \n",
            " pool4 (MaxPooling2D)        (None, 3, 3, 512)         0         \n",
            "                                                                 \n",
            " drop4 (Dropout)             (None, 3, 3, 512)         0         \n",
            "                                                                 \n",
            " conv5 (Conv2D)              (None, 3, 3, 1024)        4719616   \n",
            "                                                                 \n",
            " batch_normalization_4 (Batc  (None, 3, 3, 1024)       4096      \n",
            " hNormalization)                                                 \n",
            "                                                                 \n",
            " pool5 (MaxPooling2D)        (None, 1, 1, 1024)        0         \n",
            "                                                                 \n",
            " drop5 (Dropout)             (None, 1, 1, 1024)        0         \n",
            "                                                                 \n",
            " flatten (Flatten)           (None, 1024)              0         \n",
            "                                                                 \n",
            " output (Dense)              (None, 7)                 7175      \n",
            "                                                                 \n",
            "=================================================================\n",
            "Total params: 6,284,551\n",
            "Trainable params: 6,280,583\n",
            "Non-trainable params: 3,968\n",
            "_________________________________________________________________\n"
          ]
        }
      ]
    },
    {
      "cell_type": "code",
      "source": [
        "num_epochs = 100\n",
        "history = model.fit_generator(train_flow, \n",
        "                    steps_per_epoch=len(newarr) / batch_size, \n",
        "                    epochs=num_epochs,  \n",
        "                    verbose=1,  \n",
        "                    validation_data=test_flow, validation_steps=len(new_test) / batch_size)"
      ],
      "metadata": {
        "id": "Fu-9IGvthIAz",
        "colab": {
          "base_uri": "https://localhost:8080/"
        },
        "outputId": "e636c1ea-074b-4821-edec-79871375a5e9"
      },
      "execution_count": null,
      "outputs": [
        {
          "output_type": "stream",
          "name": "stdout",
          "text": [
            "Epoch 1/100\n"
          ]
        },
        {
          "output_type": "stream",
          "name": "stderr",
          "text": [
            "/usr/local/lib/python3.7/dist-packages/ipykernel_launcher.py:6: UserWarning: `Model.fit_generator` is deprecated and will be removed in a future version. Please use `Model.fit`, which supports generators.\n",
            "  \n"
          ]
        },
        {
          "output_type": "stream",
          "name": "stdout",
          "text": [
            "1578/1578 [==============================] - 46s 22ms/step - loss: 2.3590 - accuracy: 0.1941 - val_loss: 1.9259 - val_accuracy: 0.2323\n",
            "Epoch 2/100\n",
            "1578/1578 [==============================] - 32s 20ms/step - loss: 1.8776 - accuracy: 0.2582 - val_loss: 1.8455 - val_accuracy: 0.3020\n",
            "Epoch 3/100\n",
            "1578/1578 [==============================] - 32s 20ms/step - loss: 1.7232 - accuracy: 0.3333 - val_loss: 1.6484 - val_accuracy: 0.3905\n",
            "Epoch 4/100\n",
            "1578/1578 [==============================] - 32s 21ms/step - loss: 1.5823 - accuracy: 0.3978 - val_loss: 1.4549 - val_accuracy: 0.4607\n",
            "Epoch 5/100\n",
            "1578/1578 [==============================] - 32s 20ms/step - loss: 1.4736 - accuracy: 0.4394 - val_loss: 1.5069 - val_accuracy: 0.4562\n",
            "Epoch 6/100\n",
            "1578/1578 [==============================] - 32s 20ms/step - loss: 1.3899 - accuracy: 0.4752 - val_loss: 1.4044 - val_accuracy: 0.4745\n",
            "Epoch 7/100\n",
            "1578/1578 [==============================] - 32s 21ms/step - loss: 1.3283 - accuracy: 0.4998 - val_loss: 1.3961 - val_accuracy: 0.4801\n",
            "Epoch 8/100\n",
            "1578/1578 [==============================] - 33s 21ms/step - loss: 1.2746 - accuracy: 0.5172 - val_loss: 1.3017 - val_accuracy: 0.5192\n",
            "Epoch 9/100\n",
            "1578/1578 [==============================] - 32s 20ms/step - loss: 1.2273 - accuracy: 0.5359 - val_loss: 1.2491 - val_accuracy: 0.5385\n",
            "Epoch 10/100\n",
            "1578/1578 [==============================] - 32s 20ms/step - loss: 1.1946 - accuracy: 0.5502 - val_loss: 1.1883 - val_accuracy: 0.5598\n",
            "Epoch 11/100\n",
            "1578/1578 [==============================] - 32s 20ms/step - loss: 1.1564 - accuracy: 0.5648 - val_loss: 1.1532 - val_accuracy: 0.5690\n",
            "Epoch 12/100\n",
            "1578/1578 [==============================] - 32s 20ms/step - loss: 1.1262 - accuracy: 0.5744 - val_loss: 1.1093 - val_accuracy: 0.5874\n",
            "Epoch 13/100\n",
            "1578/1578 [==============================] - 32s 20ms/step - loss: 1.1054 - accuracy: 0.5836 - val_loss: 1.1842 - val_accuracy: 0.5652\n",
            "Epoch 14/100\n",
            "1578/1578 [==============================] - 32s 20ms/step - loss: 1.0787 - accuracy: 0.5915 - val_loss: 1.0886 - val_accuracy: 0.5980\n",
            "Epoch 15/100\n",
            "1578/1578 [==============================] - 32s 20ms/step - loss: 1.0599 - accuracy: 0.5976 - val_loss: 1.0937 - val_accuracy: 0.5975\n",
            "Epoch 16/100\n",
            "1578/1578 [==============================] - 32s 20ms/step - loss: 1.0407 - accuracy: 0.6088 - val_loss: 1.1309 - val_accuracy: 0.5907\n",
            "Epoch 17/100\n",
            "1578/1578 [==============================] - 32s 20ms/step - loss: 1.0223 - accuracy: 0.6140 - val_loss: 1.1325 - val_accuracy: 0.5847\n",
            "Epoch 18/100\n",
            "1578/1578 [==============================] - 32s 20ms/step - loss: 1.0057 - accuracy: 0.6213 - val_loss: 1.0794 - val_accuracy: 0.6084\n",
            "Epoch 19/100\n",
            "1578/1578 [==============================] - 32s 20ms/step - loss: 0.9871 - accuracy: 0.6283 - val_loss: 1.0449 - val_accuracy: 0.6249\n",
            "Epoch 20/100\n",
            "1578/1578 [==============================] - 32s 20ms/step - loss: 0.9752 - accuracy: 0.6347 - val_loss: 1.1169 - val_accuracy: 0.5918\n",
            "Epoch 21/100\n",
            "1578/1578 [==============================] - 32s 20ms/step - loss: 0.9639 - accuracy: 0.6396 - val_loss: 1.1942 - val_accuracy: 0.5673\n",
            "Epoch 22/100\n",
            "1578/1578 [==============================] - 32s 20ms/step - loss: 0.9475 - accuracy: 0.6464 - val_loss: 1.0726 - val_accuracy: 0.6150\n",
            "Epoch 23/100\n",
            "1578/1578 [==============================] - 32s 20ms/step - loss: 0.9382 - accuracy: 0.6482 - val_loss: 1.0585 - val_accuracy: 0.6159\n",
            "Epoch 24/100\n",
            "1578/1578 [==============================] - 32s 20ms/step - loss: 0.9238 - accuracy: 0.6523 - val_loss: 1.1236 - val_accuracy: 0.5969\n",
            "Epoch 25/100\n",
            "1578/1578 [==============================] - 32s 20ms/step - loss: 0.9169 - accuracy: 0.6544 - val_loss: 1.0848 - val_accuracy: 0.5982\n",
            "Epoch 26/100\n",
            "1578/1578 [==============================] - 32s 20ms/step - loss: 0.9022 - accuracy: 0.6605 - val_loss: 1.0959 - val_accuracy: 0.6106\n",
            "Epoch 27/100\n",
            "1578/1578 [==============================] - 32s 21ms/step - loss: 0.8973 - accuracy: 0.6595 - val_loss: 1.0405 - val_accuracy: 0.6258\n",
            "Epoch 28/100\n",
            "1578/1578 [==============================] - 33s 21ms/step - loss: 0.8809 - accuracy: 0.6668 - val_loss: 1.0577 - val_accuracy: 0.6208\n",
            "Epoch 29/100\n",
            "1578/1578 [==============================] - 33s 21ms/step - loss: 0.8739 - accuracy: 0.6753 - val_loss: 1.0209 - val_accuracy: 0.6452\n",
            "Epoch 30/100\n",
            "1578/1578 [==============================] - 34s 22ms/step - loss: 0.8675 - accuracy: 0.6756 - val_loss: 1.0707 - val_accuracy: 0.6243\n",
            "Epoch 31/100\n",
            "1578/1578 [==============================] - 32s 20ms/step - loss: 0.8568 - accuracy: 0.6770 - val_loss: 1.0260 - val_accuracy: 0.6451\n",
            "Epoch 32/100\n",
            "1578/1578 [==============================] - 32s 20ms/step - loss: 0.8504 - accuracy: 0.6804 - val_loss: 1.0299 - val_accuracy: 0.6339\n",
            "Epoch 33/100\n",
            "1578/1578 [==============================] - 33s 21ms/step - loss: 0.8442 - accuracy: 0.6835 - val_loss: 1.0974 - val_accuracy: 0.6200\n",
            "Epoch 34/100\n",
            "1578/1578 [==============================] - 33s 21ms/step - loss: 0.8378 - accuracy: 0.6878 - val_loss: 1.0009 - val_accuracy: 0.6509\n",
            "Epoch 35/100\n",
            "1578/1578 [==============================] - 33s 21ms/step - loss: 0.8226 - accuracy: 0.6907 - val_loss: 1.0131 - val_accuracy: 0.6465\n",
            "Epoch 36/100\n",
            "1578/1578 [==============================] - 33s 21ms/step - loss: 0.8168 - accuracy: 0.6933 - val_loss: 1.0846 - val_accuracy: 0.6299\n",
            "Epoch 37/100\n",
            "1578/1578 [==============================] - 33s 21ms/step - loss: 0.8150 - accuracy: 0.6966 - val_loss: 1.0511 - val_accuracy: 0.6424\n",
            "Epoch 38/100\n",
            "1578/1578 [==============================] - 33s 21ms/step - loss: 0.8090 - accuracy: 0.6963 - val_loss: 1.0116 - val_accuracy: 0.6458\n",
            "Epoch 39/100\n",
            "1578/1578 [==============================] - 33s 21ms/step - loss: 0.8043 - accuracy: 0.7003 - val_loss: 1.0293 - val_accuracy: 0.6449\n",
            "Epoch 40/100\n",
            "1578/1578 [==============================] - 33s 21ms/step - loss: 0.7900 - accuracy: 0.7066 - val_loss: 1.0246 - val_accuracy: 0.6523\n",
            "Epoch 41/100\n",
            "1578/1578 [==============================] - 33s 21ms/step - loss: 0.7867 - accuracy: 0.7063 - val_loss: 1.0275 - val_accuracy: 0.6511\n",
            "Epoch 42/100\n",
            "1578/1578 [==============================] - 33s 21ms/step - loss: 0.7832 - accuracy: 0.7085 - val_loss: 1.0310 - val_accuracy: 0.6460\n",
            "Epoch 43/100\n",
            "1578/1578 [==============================] - 33s 21ms/step - loss: 0.7814 - accuracy: 0.7085 - val_loss: 1.0215 - val_accuracy: 0.6543\n",
            "Epoch 44/100\n",
            "1578/1578 [==============================] - 33s 21ms/step - loss: 0.7689 - accuracy: 0.7124 - val_loss: 1.0767 - val_accuracy: 0.6264\n",
            "Epoch 45/100\n",
            "1578/1578 [==============================] - 33s 21ms/step - loss: 0.7713 - accuracy: 0.7120 - val_loss: 1.0613 - val_accuracy: 0.6327\n",
            "Epoch 46/100\n",
            "1578/1578 [==============================] - 33s 21ms/step - loss: 0.7622 - accuracy: 0.7147 - val_loss: 1.1694 - val_accuracy: 0.5973\n",
            "Epoch 47/100\n",
            "1578/1578 [==============================] - 33s 21ms/step - loss: 0.7596 - accuracy: 0.7172 - val_loss: 1.0709 - val_accuracy: 0.6297\n",
            "Epoch 48/100\n",
            "1578/1578 [==============================] - 32s 20ms/step - loss: 0.7469 - accuracy: 0.7215 - val_loss: 1.0188 - val_accuracy: 0.6580\n",
            "Epoch 49/100\n",
            "1578/1578 [==============================] - 33s 21ms/step - loss: 0.7464 - accuracy: 0.7226 - val_loss: 1.0421 - val_accuracy: 0.6458\n",
            "Epoch 50/100\n",
            "1578/1578 [==============================] - 32s 20ms/step - loss: 0.7334 - accuracy: 0.7289 - val_loss: 1.0557 - val_accuracy: 0.6466\n",
            "Epoch 51/100\n",
            "1578/1578 [==============================] - 33s 21ms/step - loss: 0.7316 - accuracy: 0.7275 - val_loss: 1.0317 - val_accuracy: 0.6511\n",
            "Epoch 52/100\n",
            "1578/1578 [==============================] - 33s 21ms/step - loss: 0.7287 - accuracy: 0.7303 - val_loss: 1.0104 - val_accuracy: 0.6531\n",
            "Epoch 53/100\n",
            "1578/1578 [==============================] - 33s 21ms/step - loss: 0.7192 - accuracy: 0.7333 - val_loss: 1.0337 - val_accuracy: 0.6537\n",
            "Epoch 54/100\n",
            "1578/1578 [==============================] - 33s 21ms/step - loss: 0.7155 - accuracy: 0.7370 - val_loss: 1.1485 - val_accuracy: 0.6151\n",
            "Epoch 55/100\n",
            "1578/1578 [==============================] - 32s 20ms/step - loss: 0.7144 - accuracy: 0.7360 - val_loss: 1.0125 - val_accuracy: 0.6601\n",
            "Epoch 56/100\n",
            "1578/1578 [==============================] - 33s 21ms/step - loss: 0.7092 - accuracy: 0.7378 - val_loss: 1.0304 - val_accuracy: 0.6629\n",
            "Epoch 57/100\n",
            "1578/1578 [==============================] - 33s 21ms/step - loss: 0.7037 - accuracy: 0.7386 - val_loss: 1.0942 - val_accuracy: 0.6413\n",
            "Epoch 58/100\n",
            "1578/1578 [==============================] - 33s 21ms/step - loss: 0.7038 - accuracy: 0.7387 - val_loss: 1.1198 - val_accuracy: 0.6374\n",
            "Epoch 59/100\n",
            "1578/1578 [==============================] - 33s 21ms/step - loss: 0.6982 - accuracy: 0.7409 - val_loss: 1.1712 - val_accuracy: 0.6088\n",
            "Epoch 60/100\n",
            "1578/1578 [==============================] - 33s 21ms/step - loss: 0.6911 - accuracy: 0.7428 - val_loss: 1.0692 - val_accuracy: 0.6573\n",
            "Epoch 61/100\n",
            "1578/1578 [==============================] - 33s 21ms/step - loss: 0.6926 - accuracy: 0.7445 - val_loss: 1.0383 - val_accuracy: 0.6552\n",
            "Epoch 62/100\n",
            "1578/1578 [==============================] - 33s 21ms/step - loss: 0.6811 - accuracy: 0.7488 - val_loss: 1.0491 - val_accuracy: 0.6608\n",
            "Epoch 63/100\n",
            "1578/1578 [==============================] - 33s 21ms/step - loss: 0.6755 - accuracy: 0.7505 - val_loss: 1.0188 - val_accuracy: 0.6662\n",
            "Epoch 64/100\n",
            "1578/1578 [==============================] - 32s 20ms/step - loss: 0.6711 - accuracy: 0.7513 - val_loss: 1.0413 - val_accuracy: 0.6583\n",
            "Epoch 65/100\n",
            "1578/1578 [==============================] - 33s 21ms/step - loss: 0.6732 - accuracy: 0.7518 - val_loss: 1.0484 - val_accuracy: 0.6646\n",
            "Epoch 66/100\n",
            "1578/1578 [==============================] - 32s 20ms/step - loss: 0.6631 - accuracy: 0.7558 - val_loss: 1.0768 - val_accuracy: 0.6554\n",
            "Epoch 67/100\n",
            "1578/1578 [==============================] - 33s 21ms/step - loss: 0.6695 - accuracy: 0.7537 - val_loss: 1.0364 - val_accuracy: 0.6683\n",
            "Epoch 68/100\n",
            "1578/1578 [==============================] - 32s 20ms/step - loss: 0.6620 - accuracy: 0.7560 - val_loss: 1.0474 - val_accuracy: 0.6575\n",
            "Epoch 69/100\n",
            "1578/1578 [==============================] - 33s 21ms/step - loss: 0.6593 - accuracy: 0.7559 - val_loss: 1.0773 - val_accuracy: 0.6589\n",
            "Epoch 70/100\n",
            "1578/1578 [==============================] - 33s 21ms/step - loss: 0.6523 - accuracy: 0.7597 - val_loss: 1.1102 - val_accuracy: 0.6484\n",
            "Epoch 71/100\n",
            "1578/1578 [==============================] - 33s 21ms/step - loss: 0.6508 - accuracy: 0.7608 - val_loss: 1.0401 - val_accuracy: 0.6700\n",
            "Epoch 72/100\n",
            "1578/1578 [==============================] - 32s 20ms/step - loss: 0.6419 - accuracy: 0.7636 - val_loss: 1.0721 - val_accuracy: 0.6615\n",
            "Epoch 73/100\n",
            "1578/1578 [==============================] - 34s 21ms/step - loss: 0.6368 - accuracy: 0.7650 - val_loss: 1.0774 - val_accuracy: 0.6608\n",
            "Epoch 74/100\n",
            "1578/1578 [==============================] - 33s 21ms/step - loss: 0.6346 - accuracy: 0.7665 - val_loss: 1.0743 - val_accuracy: 0.6672\n",
            "Epoch 75/100\n",
            "1578/1578 [==============================] - 33s 21ms/step - loss: 0.6385 - accuracy: 0.7654 - val_loss: 1.0675 - val_accuracy: 0.6692\n",
            "Epoch 76/100\n",
            "1578/1578 [==============================] - 33s 21ms/step - loss: 0.6248 - accuracy: 0.7711 - val_loss: 1.0776 - val_accuracy: 0.6681\n",
            "Epoch 77/100\n",
            "1578/1578 [==============================] - 32s 20ms/step - loss: 0.6289 - accuracy: 0.7684 - val_loss: 1.0822 - val_accuracy: 0.6621\n",
            "Epoch 78/100\n",
            "1578/1578 [==============================] - 33s 21ms/step - loss: 0.6205 - accuracy: 0.7726 - val_loss: 1.1258 - val_accuracy: 0.6505\n",
            "Epoch 79/100\n",
            "1578/1578 [==============================] - 32s 20ms/step - loss: 0.6156 - accuracy: 0.7738 - val_loss: 1.0624 - val_accuracy: 0.6693\n",
            "Epoch 80/100\n",
            "1578/1578 [==============================] - 33s 21ms/step - loss: 0.6189 - accuracy: 0.7740 - val_loss: 1.0654 - val_accuracy: 0.6708\n",
            "Epoch 81/100\n",
            "1578/1578 [==============================] - 32s 20ms/step - loss: 0.6178 - accuracy: 0.7707 - val_loss: 1.0678 - val_accuracy: 0.6616\n",
            "Epoch 82/100\n",
            "1578/1578 [==============================] - 33s 21ms/step - loss: 0.6098 - accuracy: 0.7762 - val_loss: 1.0942 - val_accuracy: 0.6608\n",
            "Epoch 83/100\n",
            "1578/1578 [==============================] - 33s 21ms/step - loss: 0.6082 - accuracy: 0.7763 - val_loss: 1.1253 - val_accuracy: 0.6594\n",
            "Epoch 84/100\n",
            "1578/1578 [==============================] - 32s 20ms/step - loss: 0.6029 - accuracy: 0.7786 - val_loss: 1.0888 - val_accuracy: 0.6618\n",
            "Epoch 85/100\n",
            "1578/1578 [==============================] - 32s 20ms/step - loss: 0.5974 - accuracy: 0.7793 - val_loss: 1.0739 - val_accuracy: 0.6768\n",
            "Epoch 86/100\n",
            "1578/1578 [==============================] - 32s 20ms/step - loss: 0.5979 - accuracy: 0.7813 - val_loss: 1.1233 - val_accuracy: 0.6564\n",
            "Epoch 87/100\n",
            "1578/1578 [==============================] - 33s 21ms/step - loss: 0.5938 - accuracy: 0.7828 - val_loss: 1.1111 - val_accuracy: 0.6589\n",
            "Epoch 88/100\n",
            "1578/1578 [==============================] - 32s 20ms/step - loss: 0.5943 - accuracy: 0.7819 - val_loss: 1.0979 - val_accuracy: 0.6647\n",
            "Epoch 89/100\n",
            "1578/1578 [==============================] - 33s 21ms/step - loss: 0.5906 - accuracy: 0.7846 - val_loss: 1.0971 - val_accuracy: 0.6662\n",
            "Epoch 90/100\n",
            "1578/1578 [==============================] - 33s 21ms/step - loss: 0.5878 - accuracy: 0.7853 - val_loss: 1.1476 - val_accuracy: 0.6533\n",
            "Epoch 91/100\n",
            "1578/1578 [==============================] - 33s 21ms/step - loss: 0.5852 - accuracy: 0.7839 - val_loss: 1.1018 - val_accuracy: 0.6729\n",
            "Epoch 92/100\n",
            "1578/1578 [==============================] - 33s 21ms/step - loss: 0.5782 - accuracy: 0.7865 - val_loss: 1.1356 - val_accuracy: 0.6621\n",
            "Epoch 93/100\n",
            "1578/1578 [==============================] - 33s 21ms/step - loss: 0.5753 - accuracy: 0.7900 - val_loss: 1.1097 - val_accuracy: 0.6685\n",
            "Epoch 94/100\n",
            "1578/1578 [==============================] - 32s 21ms/step - loss: 0.5780 - accuracy: 0.7890 - val_loss: 1.1182 - val_accuracy: 0.6650\n",
            "Epoch 95/100\n",
            "1578/1578 [==============================] - 48s 30ms/step - loss: 0.5686 - accuracy: 0.7913 - val_loss: 1.0974 - val_accuracy: 0.6707\n",
            "Epoch 96/100\n",
            "1578/1578 [==============================] - 37s 23ms/step - loss: 0.5691 - accuracy: 0.7921 - val_loss: 1.1415 - val_accuracy: 0.6618\n",
            "Epoch 97/100\n",
            "1578/1578 [==============================] - 33s 21ms/step - loss: 0.5705 - accuracy: 0.7901 - val_loss: 1.0880 - val_accuracy: 0.6732\n",
            "Epoch 98/100\n",
            "1578/1578 [==============================] - 35s 22ms/step - loss: 0.5643 - accuracy: 0.7937 - val_loss: 1.1052 - val_accuracy: 0.6720\n",
            "Epoch 99/100\n",
            "1578/1578 [==============================] - 33s 21ms/step - loss: 0.5596 - accuracy: 0.7964 - val_loss: 1.1020 - val_accuracy: 0.6697\n",
            "Epoch 100/100\n",
            "1578/1578 [==============================] - 33s 21ms/step - loss: 0.5577 - accuracy: 0.7964 - val_loss: 1.1958 - val_accuracy: 0.6370\n"
          ]
        }
      ]
    },
    {
      "cell_type": "markdown",
      "source": [
        "Tuning model"
      ],
      "metadata": {
        "id": "4DKPKnDPKBHk"
      }
    },
    {
      "cell_type": "code",
      "source": [
        "import numpy\n",
        "from sklearn.model_selection import GridSearchCV\n",
        "from keras.models import Sequential\n",
        "from keras.layers import Dense\n",
        "from keras.wrappers.scikit_learn import KerasClassifier"
      ],
      "metadata": {
        "id": "QvRkAt_Jyq55"
      },
      "execution_count": null,
      "outputs": []
    },
    {
      "cell_type": "code",
      "source": [
        "model_search = KerasClassifier(build_fn=FER_Model, verbose=0)"
      ],
      "metadata": {
        "id": "5fdbhj1Fyq_i"
      },
      "execution_count": null,
      "outputs": []
    },
    {
      "cell_type": "code",
      "source": [
        "batch_size = [32, 64, 100, 200, 300]\n",
        "epochs = [50, 65, 85, 100,]\n",
        "param_grid = dict(batch_size=batch_size, epochs=epochs)\n",
        "grid_search_cv=GridSearchCV(model_search,param_grid,verbose=3,cv=2)\n",
        "grid_result = grid_search_cv.fit(newarr, train['emotion'])"
      ],
      "metadata": {
        "id": "WzEAaZLxEuw8"
      },
      "execution_count": null,
      "outputs": []
    },
    {
      "cell_type": "code",
      "source": [
        "# summarize results\n",
        "print(\"Best: %f using %s\" % (grid_result.best_score_, grid_result.best_params_))\n",
        "means = grid_result.cv_results_['mean_test_score']\n",
        "stds = grid_result.cv_results_['std_test_score']\n",
        "params = grid_result.cv_results_['params']\n",
        "for mean, stdev, param in zip(means, stds, params):\n",
        "    print(\"%f (%f) with: %r\" % (mean, stdev, param))"
      ],
      "metadata": {
        "id": "y8At0fIML1AS"
      },
      "execution_count": null,
      "outputs": []
    },
    {
      "cell_type": "markdown",
      "source": [
        "Testing on Webcam"
      ],
      "metadata": {
        "id": "XFWXP7EFKKKf"
      }
    },
    {
      "cell_type": "code",
      "source": [
        "from IPython.display import display, Javascript, Image\n",
        "from google.colab.output import eval_js\n",
        "from base64 import b64decode, b64encode\n",
        "import cv2\n",
        "import numpy as np\n",
        "import PIL\n",
        "import io\n",
        "import html\n",
        "import time\n",
        "\n",
        "import cv2\n",
        "os.chdir('/content/drive/MyDrive/lhl_final_project')\n",
        "os.chdir('/content/drive/MyDrive/lhl_final_project/haarcascade')\n",
        "face_haar_cascade = cv2.CascadeClassifier('haarcascade_frontalface_default.xml')"
      ],
      "metadata": {
        "id": "rUCPj9icjedO"
      },
      "execution_count": null,
      "outputs": []
    },
    {
      "cell_type": "code",
      "source": [
        "# function to convert the JavaScript object into an OpenCV image\n",
        "def js_to_image(js_reply):\n",
        "  \"\"\"\n",
        "  Params:\n",
        "          js_reply: JavaScript object containing image from webcam\n",
        "  Returns:\n",
        "          img: OpenCV BGR image\n",
        "  \"\"\"\n",
        "  # decode base64 image\n",
        "  image_bytes = b64decode(js_reply.split(',')[1])\n",
        "  # convert bytes to numpy array\n",
        "  jpg_as_np = np.frombuffer(image_bytes, dtype=np.uint8)\n",
        "  # decode numpy array into OpenCV BGR image\n",
        "  img = cv2.imdecode(jpg_as_np, flags=1)\n",
        "\n",
        "  return img\n",
        "\n",
        "# function to convert OpenCV Rectangle bounding box image into base64 byte string to be overlayed on video stream\n",
        "def bbox_to_bytes(bbox_array):\n",
        "  \"\"\"\n",
        "  Params:\n",
        "          bbox_array: Numpy array (pixels) containing rectangle to overlay on video stream.\n",
        "  Returns:\n",
        "        bytes: Base64 image byte string\n",
        "  \"\"\"\n",
        "  # convert array into PIL image\n",
        "  bbox_PIL = PIL.Image.fromarray(bbox_array, 'RGBA')\n",
        "  iobuf = io.BytesIO()\n",
        "  # format bbox into png for return\n",
        "  bbox_PIL.save(iobuf, format='png')\n",
        "  # format return string\n",
        "  bbox_bytes = 'data:image/png;base64,{}'.format((str(b64encode(iobuf.getvalue()), 'utf-8')))\n",
        "\n",
        "  return bbox_bytes"
      ],
      "metadata": {
        "id": "FXaFp2BGjehZ"
      },
      "execution_count": null,
      "outputs": []
    },
    {
      "cell_type": "code",
      "source": [
        "# initialize the Haar Cascade face detection model\n",
        "face_cascade = cv2.CascadeClassifier(cv2.samples.findFile(cv2.data.haarcascades + 'haarcascade_frontalface_default.xml'))"
      ],
      "metadata": {
        "id": "bOH4sZFDjelJ"
      },
      "execution_count": null,
      "outputs": []
    },
    {
      "cell_type": "code",
      "source": [
        "def take_photo(filename='photo.jpg', quality=0.8):\n",
        "  js = Javascript('''\n",
        "    async function takePhoto(quality) {\n",
        "      const div = document.createElement('div');\n",
        "      const capture = document.createElement('button');\n",
        "      capture.textContent = 'Capture';\n",
        "      div.appendChild(capture);\n",
        "\n",
        "      const video = document.createElement('video');\n",
        "      video.style.display = 'block';\n",
        "      const stream = await navigator.mediaDevices.getUserMedia({video: true});\n",
        "\n",
        "      document.body.appendChild(div);\n",
        "      div.appendChild(video);\n",
        "      video.srcObject = stream;\n",
        "      await video.play();\n",
        "\n",
        "      // Resize the output to fit the video element.\n",
        "      google.colab.output.setIframeHeight(document.documentElement.scrollHeight, true);\n",
        "\n",
        "      // Wait for Capture to be clicked.\n",
        "      await new Promise((resolve) => capture.onclick = resolve);\n",
        "\n",
        "      const canvas = document.createElement('canvas');\n",
        "      canvas.width = video.videoWidth;\n",
        "      canvas.height = video.videoHeight;\n",
        "      canvas.getContext('2d').drawImage(video, 0, 0);\n",
        "      stream.getVideoTracks()[0].stop();\n",
        "      div.remove();\n",
        "      return canvas.toDataURL('image/jpeg', quality);\n",
        "    }\n",
        "    ''')\n",
        "  display(js)\n",
        "\n",
        "  # get photo data\n",
        "  data = eval_js('takePhoto({})'.format(quality))\n",
        "  # example of loading an image with the Keras API\n",
        "  from keras.preprocessing.image import load_img\n",
        "  # load the image\n",
        "\n",
        "  from PIL import Image\n",
        "\n",
        "\n",
        "  # get OpenCV format image\n",
        "  img = js_to_image(data)\n",
        "  \n",
        "  load = cv2.cvtColor(img, cv2.COLOR_RGB2GRAY)\n",
        " \n",
        "  cv2.imwrite(filename, load)\n",
        "  img = Image.open('photo.jpg')\n",
        "  gray = img.resize((48,48), Image.ANTIALIAS)\n",
        "  gray.save('test_photo.jpg')\n",
        "  gray_2 = cv2.imread('test_photo.jpg')  # grayscale img\n",
        "  \n",
        "  faces = face_cascade.detectMultiScale(load)\n",
        "  print(faces)\n",
        "\n",
        "  gray_3 = gray_2[:,:,0]\n",
        "  print(gray_3.shape)\n",
        "\n",
        "  img_3 = gray_3.reshape(1, 48, 48, 1)\n",
        "  pred = model.predict(img_3)\n",
        "  emotion = ['anger', 'disgust', 'fear', 'happy', 'sad', 'surprise', 'neutral']\n",
        "  lst = pred[0]\n",
        "  lst = list(lst)\n",
        "  index = lst.index(0)\n",
        "  text = emotion[index]\n",
        "  print(faces)\n",
        "  for (x,y,w,h) in faces:\n",
        "    img_2 = cv2.rectangle(load,(x,y),(x+w,y+h),(255,0,0),2)\n",
        "    cv2.putText(img_2, text, (x, y-10), cv2.FONT_HERSHEY_SIMPLEX, 0.9, (255, 0, 0), 2)\n",
        "  cv2.imwrite(filename, img_2)\n",
        "  print(text)\n",
        "  print(filename)\n",
        "\n",
        "  \n",
        "  return filename"
      ],
      "metadata": {
        "id": "yetag66Kj-5X"
      },
      "execution_count": null,
      "outputs": []
    },
    {
      "cell_type": "code",
      "source": [
        "if True:\n",
        "  filename = take_photo('photo.jpg')\n",
        "  print('Saved to {}'.format(filename))\n",
        "  display(Image(filename))"
      ],
      "metadata": {
        "id": "UgD6EAP4j--V"
      },
      "execution_count": null,
      "outputs": []
    },
    {
      "cell_type": "code",
      "source": [
        ""
      ],
      "metadata": {
        "id": "hp2NH_QTj_FH"
      },
      "execution_count": null,
      "outputs": []
    },
    {
      "cell_type": "code",
      "source": [
        "## accuracy and loss "
      ],
      "metadata": {
        "id": "G_MSQadKje1a"
      },
      "execution_count": null,
      "outputs": []
    },
    {
      "cell_type": "code",
      "source": [
        "from matplotlib import pyplot\n",
        "\n",
        "sns.set()\n",
        "fig = pyplot.figure(0, (12, 4))\n",
        "\n",
        "ax = pyplot.subplot(1, 2, 1)\n",
        "sns.lineplot(history.epoch, history.history['accuracy'], label='train')\n",
        "sns.lineplot(history.epoch, history.history['val_accuracy'], label='valid')\n",
        "pyplot.title('Accuracy')\n",
        "pyplot.tight_layout()\n",
        "\n",
        "ax = pyplot.subplot(1, 2, 2)\n",
        "sns.lineplot(history.epoch, history.history['loss'], label='train')\n",
        "sns.lineplot(history.epoch, history.history['val_loss'], label='valid')\n",
        "pyplot.title('Loss')\n",
        "pyplot.tight_layout()\n",
        "\n",
        "pyplot.savefig('epoch_history_dcnn.png')\n",
        "pyplot.show()"
      ],
      "metadata": {
        "colab": {
          "base_uri": "https://localhost:8080/",
          "height": 446
        },
        "id": "3lcKgla2JbSE",
        "outputId": "10e7a098-d260-492a-dd30-f4aec5485b0e"
      },
      "execution_count": null,
      "outputs": [
        {
          "output_type": "stream",
          "name": "stderr",
          "text": [
            "/usr/local/lib/python3.7/dist-packages/seaborn/_decorators.py:43: FutureWarning: Pass the following variables as keyword args: x, y. From version 0.12, the only valid positional argument will be `data`, and passing other arguments without an explicit keyword will result in an error or misinterpretation.\n",
            "  FutureWarning\n",
            "/usr/local/lib/python3.7/dist-packages/seaborn/_decorators.py:43: FutureWarning: Pass the following variables as keyword args: x, y. From version 0.12, the only valid positional argument will be `data`, and passing other arguments without an explicit keyword will result in an error or misinterpretation.\n",
            "  FutureWarning\n",
            "/usr/local/lib/python3.7/dist-packages/seaborn/_decorators.py:43: FutureWarning: Pass the following variables as keyword args: x, y. From version 0.12, the only valid positional argument will be `data`, and passing other arguments without an explicit keyword will result in an error or misinterpretation.\n",
            "  FutureWarning\n",
            "/usr/local/lib/python3.7/dist-packages/seaborn/_decorators.py:43: FutureWarning: Pass the following variables as keyword args: x, y. From version 0.12, the only valid positional argument will be `data`, and passing other arguments without an explicit keyword will result in an error or misinterpretation.\n",
            "  FutureWarning\n"
          ]
        },
        {
          "output_type": "display_data",
          "data": {
            "text/plain": [
              "<Figure size 864x288 with 2 Axes>"
            ],
            "image/png": "[encoded data removed]"
          },
          "metadata": {}
        }
      ]
    },
    {
      "cell_type": "code",
      "source": [
        "## confusion"
      ],
      "metadata": {
        "id": "TnI5Z9zhJbYP"
      },
      "execution_count": null,
      "outputs": []
    },
    {
      "cell_type": "code",
      "source": [
        ""
      ],
      "metadata": {
        "id": "YmaUxS3Ws8xj"
      },
      "execution_count": null,
      "outputs": []
    },
    {
      "cell_type": "code",
      "source": [
        "from sklearn import datasets\n",
        "from sklearn.model_selection import train_test_split\n",
        "from sklearn.linear_model import LogisticRegression\n",
        "from sklearn.metrics import precision_recall_curve\n",
        "import matplotlib.pyplot as plt"
      ],
      "metadata": {
        "id": "gYmmxEmVs88E"
      },
      "execution_count": null,
      "outputs": []
    },
    {
      "cell_type": "code",
      "source": [
        "# #calculate precision and recall\n",
        "# precision, recall, thresholds = precision_recall_curve(y_test, y_score)\n",
        "\n",
        "# #create precision recall curve\n",
        "# fig, ax = plt.subplots()\n",
        "# ax.plot(recall, precision, color='purple')\n",
        "\n",
        "# #add axis labels to plot\n",
        "# ax.set_title('Precision-Recall Curve')\n",
        "# ax.set_ylabel('Precision')\n",
        "# ax.set_xlabel('Recall')\n",
        "\n",
        "# #display plot\n",
        "# plt.show()"
      ],
      "metadata": {
        "id": "6LACz-dts-Px"
      },
      "execution_count": null,
      "outputs": []
    },
    {
      "cell_type": "code",
      "source": [
        "from sklearn.metrics import classification_report\n",
        "\n",
        "y_pred = model.predict(newarr)\n",
        "y_pred = np.argmax(y_pred,axis=1)\n",
        "y_true = train['emotion']\n",
        "\n",
        "\n",
        "cm = confusion_matrix(y_true,y_pred)\n",
        "\n",
        "disp = ConfusionMatrixDisplay(confusion_matrix=cm)\n",
        "disp.plot()\n",
        "plt.show()\n",
        "\n",
        "# pyplot.savefig(\"confusion_matrix_dcnn.png\")\n",
        "\n",
        "# print(f'total wrong validation predictions: {np.sum(np.argmax(y_test, axis=1) != yhat_valid)}\\n\\n')\n",
        "# print(classification_report(np.argmax(y_test, axis=1), yhat_valid))"
      ],
      "metadata": {
        "colab": {
          "base_uri": "https://localhost:8080/",
          "height": 300
        },
        "id": "KGAUdvKrJbbg",
        "outputId": "83ba441d-8386-4b7d-b07c-3c98c59e609a"
      },
      "execution_count": null,
      "outputs": [
        {
          "output_type": "display_data",
          "data": {
            "text/plain": [
              "<Figure size 432x288 with 2 Axes>"
            ],
            "image/png": "[encoded data removed]"
          },
          "metadata": {
            "needs_background": "light"
          }
        }
      ]
    },
    {
      "cell_type": "code",
      "source": [
        ""
      ],
      "metadata": {
        "id": "AiDNYkTtLa1k"
      },
      "execution_count": null,
      "outputs": []
    },
    {
      "cell_type": "code",
      "source": [
        "# saving model\n",
        "# model_json = model.to_json()\n",
        "# with open(\"model.json\", \"w\") as json_file:\n",
        "#     json_file.write(model_json)\n",
        "# model.save_weights(\"model.h5\")\n",
        "# print(\"Saved model to disk\")"
      ],
      "metadata": {
        "id": "0WhfeYcsyrLK"
      },
      "execution_count": null,
      "outputs": []
    },
    {
      "cell_type": "code",
      "source": [
        "# # Loading the saved model\n",
        "# from tensorflow.keras.models import model_from_json\n",
        "# model = model_from_json(open(\"model_arch.json\", \"r\").read())\n",
        "# model.load_weights('model.h5')"
      ],
      "metadata": {
        "id": "8PlIvSnii4KS"
      },
      "execution_count": null,
      "outputs": []
    },
    {
      "cell_type": "code",
      "source": [
        ""
      ],
      "metadata": {
        "id": "OYJ47NEOi4Yz"
      },
      "execution_count": null,
      "outputs": []
    }
  ]
}